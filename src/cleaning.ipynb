{
 "cells": [
  {
   "cell_type": "markdown",
   "metadata": {},
   "source": [
    "# FIN-525 Financial Big Data Project"
   ]
  },
  {
   "cell_type": "markdown",
   "metadata": {},
   "source": [
    "## Importation"
   ]
  },
  {
   "cell_type": "code",
   "execution_count": 7,
   "metadata": {},
   "outputs": [],
   "source": [
    "#Working\n",
    "import pandas as pd\n",
    "import numpy as np\n",
    "from benfordslaw import benfordslaw\n",
    "\n",
    "#Plotting\n",
    "import seaborn as sns\n",
    "import matplotlib.pyplot as plt\n",
    "\n",
    "#DB\n",
    "import wrds\n",
    "import yfinance as yf\n",
    "from sec_edgar_downloader import Downloader\n",
    "\n",
    "#Utils\n",
    "from tqdm import tqdm\n",
    "from time import time\n",
    "import pickle as pkl\n",
    "import os\n",
    "\n"
   ]
  },
  {
   "cell_type": "markdown",
   "metadata": {},
   "source": [
    "## Constants"
   ]
  },
  {
   "cell_type": "code",
   "execution_count": 9,
   "metadata": {},
   "outputs": [],
   "source": [
    "RANDOM_SEED = 7\n",
    "DATA_DIR = \"../data/\"\n",
    "INTERM_DIR = '../compiled_data'"
   ]
  },
  {
   "cell_type": "code",
   "execution_count": null,
   "metadata": {},
   "outputs": [],
   "source": []
  },
  {
   "cell_type": "markdown",
   "metadata": {},
   "source": [
    "## Data Query"
   ]
  },
  {
   "cell_type": "markdown",
   "metadata": {},
   "source": [
    "### WRDS"
   ]
  },
  {
   "cell_type": "code",
   "execution_count": null,
   "metadata": {},
   "outputs": [],
   "source": [
    "db = wrds.Connection(wrds_username='debabech', wrds_passeword='Electro1004$')\n",
    "db.create_pgpass_file()\n",
    "permcos = db.get_table(library='crsp', table='stocknames')[\n",
    "    [\"permco\", \"ticker\"]]"
   ]
  },
  {
   "cell_type": "markdown",
   "metadata": {},
   "source": [
    "### EDGAR"
   ]
  },
  {
   "cell_type": "code",
   "execution_count": 15,
   "metadata": {},
   "outputs": [],
   "source": [
    "ticker = \"Apple\"\n",
    "\n",
    "path = os.path.join(DATA_DIR+\"edgar/\", ticker)\n",
    "os.mkdir(path)\n",
    "dl = Downloader(DATA_DIR+\"edgar/\" +ticker)\n",
    "\n",
    "# Get all 13F filings for Apple\n",
    "info = dl.get(\"13F-NT\", ticker) # , after=\"2017-01-01\", before=\"2017-03-25\") # \"13F-NT\""
   ]
  },
  {
   "cell_type": "markdown",
   "metadata": {},
   "source": [
    "## Theory"
   ]
  },
  {
   "cell_type": "code",
   "execution_count": null,
   "metadata": {},
   "outputs": [],
   "source": [
    "# get_random_data\n",
    "\n",
    "# This is a simple function which creates 1000 random values between 1 and 1000.\n",
    "\n",
    "def get_random_data():  \n",
    "    \"\"\"\n",
    "    Returns a list of 1000 numbers approximately\n",
    "    following the uniform distribution NOT the\n",
    "    Benford Distribution.\n",
    "    \"\"\"\n",
    "    random_data = [0] * 1000\n",
    "    random_data = list(map(lambda n: n + random.randint(1, 1000), random_data))\n",
    "    return random_data"
   ]
  },
  {
   "cell_type": "code",
   "execution_count": null,
   "metadata": {},
   "outputs": [],
   "source": [
    "def ben_theoritical():  \n",
    "    \"\"\"\n",
    "    Returns a list of 1000 numbers following\n",
    "    the Benford's law Distribution.\n",
    "    \"\"\"\n",
    "    results=[]\n",
    "    \n",
    "    for n in range(10):\n",
    "        results.append(np.log10(n + 1) - np.log10(n))\n",
    "    \n",
    "    return results"
   ]
  },
  {
   "cell_type": "markdown",
   "metadata": {},
   "source": [
    "Plotting"
   ]
  },
  {
   "cell_type": "code",
   "execution_count": null,
   "metadata": {},
   "outputs": [],
   "source": [
    "plt.rc('font', size=16)\n",
    "fig, ax = plt.subplots(figsize=(12, 6))\n",
    "ax.bar(digits, digit_probs)\n",
    "plt.xticks(digits)\n",
    "plt.xlabel('Digits')\n",
    "plt.ylabel('Probability')\n",
    "plt.title(\"Benford's Law: Probability of Leading Digits\")\n",
    "plt.show()\n"
   ]
  },
  {
   "cell_type": "markdown",
   "metadata": {},
   "source": [
    "# Case Study"
   ]
  },
  {
   "cell_type": "markdown",
   "metadata": {},
   "source": [
    "## Fibonacci Series"
   ]
  },
  {
   "cell_type": "code",
   "execution_count": null,
   "metadata": {},
   "outputs": [],
   "source": [
    "# Calculates and stores the first n = 1000 Fibonacci numbers\n",
    "def fibonacci(n):\n",
    "    fibs = [1, 1]\n",
    "    for i in range(2, n + 1):\n",
    "        fibs.append(fibs[i - 1] + fibs[i - 2])\n",
    "    return fibs\n",
    "\n",
    "fib_nums = fibonacci(1000)\n",
    "\n",
    "# Calculate the number of leading digits for 1000 Fibonacci Numbers\n",
    "def leading_digit_count(numbers):\n",
    "    digit_dict = { 'digit': np.arange(1,10),\n",
    "                   'prob' : np.zeros(9),\n",
    "                   'count': np.zeros(9) }\n",
    "    for num in numbers:\n",
    "        first_digit = int(str(num)[:1])\n",
    "        ind = np.where(digit_dict['digit'] == first_digit)\n",
    "        digit_dict['count'][ind] =  digit_dict['count'][ind] +1 \n",
    "    \n",
    "    digit_dict['prob'] = digit_dict['count'] / len(numbers)\n",
    "    \n",
    "    return digit_dict\n",
    "\n",
    "leading_digit_prob = leading_digit_count(fib_nums)\n",
    "\n",
    "sse0 = np.sum((leading_digit_prob['prob'] - digit_probs) ** 2)\n",
    "\n",
    "print('Sum of squared errors is ', sse0)\n"
   ]
  },
  {
   "cell_type": "code",
   "execution_count": null,
   "metadata": {},
   "outputs": [],
   "source": [
    "fig, axs = plt.subplots(1, 4, figsize=(20,5))\n",
    "\n",
    "for i, ax in enumerate(axs):\n",
    "    n = 10 ** (i + 1)\n",
    "    fib_nums = fibonacci(n)\n",
    "    leading_digit_prob = leading_digit_count(fib_nums)\n",
    "    sse0 = np.sum((leading_digit_prob['prob'] - digit_probs) ** 2)\n",
    "    \n",
    "    ax.bar(leading_digit_prob['digit'], leading_digit_prob['prob'], width=0.25)\n",
    "    ax.bar(digits + 0.25, digit_probs, width = 0.25)\n",
    "    \n",
    "    ax.set_xticks(leading_digit_prob['digit'])\n",
    "    ax.set_xlabel('Digits')\n",
    "    ax.set_ylabel('Probability')\n",
    "    ax.set_title(f'n = {n}, SSE = {sse0:.2e}')\n",
    "    \n",
    "    ax.legend(labels=['Fibonacci', \"Benford's Law\"])\n",
    "    \n",
    "plt.suptitle(f'Probability of Leading Digits', fontsize=16)\n",
    "plt.show()\n"
   ]
  },
  {
   "cell_type": "markdown",
   "metadata": {},
   "source": [
    "## US elections"
   ]
  },
  {
   "cell_type": "code",
   "execution_count": null,
   "metadata": {},
   "outputs": [],
   "source": [
    "# Initialize\n",
    "bl = benfordslaw(alpha=0.05)\n",
    "\n",
    "# Load elections example\n",
    "df = bl.import_example(data='USA')\n",
    "\n",
    "# Extract election information.\n",
    "X = df['votes'].loc[df['candidate']=='Donald Trump'].values\n",
    "\n",
    "# Print\n",
    "print(X)\n",
    "# array([ 5387, 23618,  1710, ...,    16,    21,     0], dtype=int64)\n",
    "\n",
    "# Make fit\n",
    "results = bl.fit(X)\n",
    "\n",
    "# Plot\n",
    "bl.plot(title='Donald Trump')\n",
    "\n",
    "# ================== Second digit =================\n",
    "\n",
    "# Initialize and set to analyze the second digit postion\n",
    "bl = benfordslaw(pos=2)\n",
    "# USA example\n",
    "df = bl.import_example(data='USA')\n",
    "results = bl.fit(X)\n",
    "# Plot\n",
    "bl.plot(title='Donald Trump', barcolor=[0.5, 0.5, 0.5], fontsize=12, barwidth=0.4)\n",
    "\n",
    "# ================== Last digit =================\n",
    "\n",
    "# Initialize and set to analyze the last postion\n",
    "bl = benfordslaw(pos=-1)\n",
    "# USA example\n",
    "df = bl.import_example(data='USA')\n",
    "results = bl.fit(X)\n",
    "# Plot\n",
    "bl.plot(title='Donald Trump', barcolor=[0.5, 0.5, 0.5], fontsize=12, barwidth=0.4)\n",
    "\n",
    "# ================== Second last digit =================\n",
    "\n",
    "# Initialize and set to analyze the last postion\n",
    "bl = benfordslaw(pos=-2)\n",
    "# USA example\n",
    "df = bl.import_example(data='USA')\n",
    "results = bl.fit(X)\n",
    "# Plot\n",
    "bl.plot(title='Donald Trump', barcolor=[0.5, 0.5, 0.5], fontsize=12, barwidth=0.4)"
   ]
  }
 ],
 "metadata": {
  "interpreter": {
   "hash": "aee8b7b246df8f9039afb4144a1f6fd8d2ca17a180786b69acc140d282b71a49"
  },
  "kernelspec": {
   "display_name": "Python 3.9.9 64-bit",
   "language": "python",
   "name": "python3"
  },
  "language_info": {
   "codemirror_mode": {
    "name": "ipython",
    "version": 3
   },
   "file_extension": ".py",
   "mimetype": "text/x-python",
   "name": "python",
   "nbconvert_exporter": "python",
   "pygments_lexer": "ipython3",
   "version": "3.9.9"
  },
  "orig_nbformat": 4
 },
 "nbformat": 4,
 "nbformat_minor": 2
}
